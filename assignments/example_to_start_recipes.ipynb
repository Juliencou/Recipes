{
 "cells": [
  {
   "cell_type": "code",
   "execution_count": 322,
   "metadata": {},
   "outputs": [],
   "source": [
    "#Imports\n",
    "import numpy as np\n",
    "import pandas as pd\n",
    "import matplotlib.pyplot as plt\n",
    "import itertools\n",
    "import random"
   ]
  },
  {
   "cell_type": "code",
   "execution_count": 323,
   "metadata": {},
   "outputs": [],
   "source": [
    "#Load the cleaned dataset. The Cleaning of the dataset is done in clean_data.ipynb\n",
    "df_test = pd.read_csv(\"./data_10k.csv\", sep=',')"
   ]
  },
  {
   "cell_type": "code",
   "execution_count": 337,
   "metadata": {},
   "outputs": [
    {
     "name": "stdout",
     "output_type": "stream",
     "text": [
      "(10000, 9663)\n"
     ]
    },
    {
     "data": {
      "text/html": [
       "<div>\n",
       "<style scoped>\n",
       "    .dataframe tbody tr th:only-of-type {\n",
       "        vertical-align: middle;\n",
       "    }\n",
       "\n",
       "    .dataframe tbody tr th {\n",
       "        vertical-align: top;\n",
       "    }\n",
       "\n",
       "    .dataframe thead th {\n",
       "        text-align: right;\n",
       "    }\n",
       "</style>\n",
       "<table border=\"1\" class=\"dataframe\">\n",
       "  <thead>\n",
       "    <tr style=\"text-align: right;\">\n",
       "      <th></th>\n",
       "      <th>id</th>\n",
       "      <th>1-pound chicken butcher piece   chicken thigh</th>\n",
       "      <th>1-pound edamame</th>\n",
       "      <th>1-pound lamb</th>\n",
       "      <th>1-pound pizza dough</th>\n",
       "      <th>13. coconut milk</th>\n",
       "      <th>2-layer</th>\n",
       "      <th>2-percent yogurt</th>\n",
       "      <th>6-to salmon</th>\n",
       "      <th>8-pound pork butt cap</th>\n",
       "      <th>...</th>\n",
       "      <th>zucchini plank</th>\n",
       "      <th>zucchini slice</th>\n",
       "      <th>zucchini style tomato sauce</th>\n",
       "      <th>zucchini summer squash</th>\n",
       "      <th>zucchini summer squash piece</th>\n",
       "      <th>zucchini triangle</th>\n",
       "      <th>zucchini zucchini</th>\n",
       "      <th>zuchini</th>\n",
       "      <th>zuchinni</th>\n",
       "      <th>zuchinni chunk</th>\n",
       "    </tr>\n",
       "  </thead>\n",
       "  <tbody>\n",
       "    <tr>\n",
       "      <td>0</td>\n",
       "      <td>6a90237a1f</td>\n",
       "      <td>0.0</td>\n",
       "      <td>0.0</td>\n",
       "      <td>0.0</td>\n",
       "      <td>0.0</td>\n",
       "      <td>0.0</td>\n",
       "      <td>0.0</td>\n",
       "      <td>0.0</td>\n",
       "      <td>0.0</td>\n",
       "      <td>0.0</td>\n",
       "      <td>...</td>\n",
       "      <td>0.0</td>\n",
       "      <td>0.0</td>\n",
       "      <td>0.0</td>\n",
       "      <td>0.0</td>\n",
       "      <td>0.0</td>\n",
       "      <td>0.0</td>\n",
       "      <td>0.0</td>\n",
       "      <td>0.0</td>\n",
       "      <td>0.0</td>\n",
       "      <td>0.0</td>\n",
       "    </tr>\n",
       "    <tr>\n",
       "      <td>1</td>\n",
       "      <td>f3234317a4</td>\n",
       "      <td>0.0</td>\n",
       "      <td>0.0</td>\n",
       "      <td>0.0</td>\n",
       "      <td>0.0</td>\n",
       "      <td>0.0</td>\n",
       "      <td>0.0</td>\n",
       "      <td>0.0</td>\n",
       "      <td>0.0</td>\n",
       "      <td>0.0</td>\n",
       "      <td>...</td>\n",
       "      <td>0.0</td>\n",
       "      <td>0.0</td>\n",
       "      <td>0.0</td>\n",
       "      <td>0.0</td>\n",
       "      <td>0.0</td>\n",
       "      <td>0.0</td>\n",
       "      <td>0.0</td>\n",
       "      <td>0.0</td>\n",
       "      <td>0.0</td>\n",
       "      <td>0.0</td>\n",
       "    </tr>\n",
       "    <tr>\n",
       "      <td>2</td>\n",
       "      <td>fe207a8ce1</td>\n",
       "      <td>0.0</td>\n",
       "      <td>0.0</td>\n",
       "      <td>0.0</td>\n",
       "      <td>0.0</td>\n",
       "      <td>0.0</td>\n",
       "      <td>0.0</td>\n",
       "      <td>0.0</td>\n",
       "      <td>0.0</td>\n",
       "      <td>0.0</td>\n",
       "      <td>...</td>\n",
       "      <td>0.0</td>\n",
       "      <td>0.0</td>\n",
       "      <td>0.0</td>\n",
       "      <td>0.0</td>\n",
       "      <td>0.0</td>\n",
       "      <td>0.0</td>\n",
       "      <td>0.0</td>\n",
       "      <td>0.0</td>\n",
       "      <td>0.0</td>\n",
       "      <td>0.0</td>\n",
       "    </tr>\n",
       "    <tr>\n",
       "      <td>3</td>\n",
       "      <td>ebd602ad45</td>\n",
       "      <td>0.0</td>\n",
       "      <td>0.0</td>\n",
       "      <td>0.0</td>\n",
       "      <td>0.0</td>\n",
       "      <td>0.0</td>\n",
       "      <td>0.0</td>\n",
       "      <td>0.0</td>\n",
       "      <td>0.0</td>\n",
       "      <td>0.0</td>\n",
       "      <td>...</td>\n",
       "      <td>0.0</td>\n",
       "      <td>0.0</td>\n",
       "      <td>0.0</td>\n",
       "      <td>0.0</td>\n",
       "      <td>0.0</td>\n",
       "      <td>0.0</td>\n",
       "      <td>0.0</td>\n",
       "      <td>0.0</td>\n",
       "      <td>0.0</td>\n",
       "      <td>0.0</td>\n",
       "    </tr>\n",
       "    <tr>\n",
       "      <td>4</td>\n",
       "      <td>f38f4ee25d</td>\n",
       "      <td>0.0</td>\n",
       "      <td>0.0</td>\n",
       "      <td>0.0</td>\n",
       "      <td>0.0</td>\n",
       "      <td>0.0</td>\n",
       "      <td>0.0</td>\n",
       "      <td>0.0</td>\n",
       "      <td>0.0</td>\n",
       "      <td>0.0</td>\n",
       "      <td>...</td>\n",
       "      <td>0.0</td>\n",
       "      <td>0.0</td>\n",
       "      <td>0.0</td>\n",
       "      <td>0.0</td>\n",
       "      <td>0.0</td>\n",
       "      <td>0.0</td>\n",
       "      <td>0.0</td>\n",
       "      <td>0.0</td>\n",
       "      <td>0.0</td>\n",
       "      <td>0.0</td>\n",
       "    </tr>\n",
       "  </tbody>\n",
       "</table>\n",
       "<p>5 rows × 9663 columns</p>\n",
       "</div>"
      ],
      "text/plain": [
       "           id  1-pound chicken butcher piece   chicken thigh  1-pound edamame  \\\n",
       "0  6a90237a1f                                            0.0              0.0   \n",
       "1  f3234317a4                                            0.0              0.0   \n",
       "2  fe207a8ce1                                            0.0              0.0   \n",
       "3  ebd602ad45                                            0.0              0.0   \n",
       "4  f38f4ee25d                                            0.0              0.0   \n",
       "\n",
       "   1-pound lamb  1-pound pizza dough  13. coconut milk  2-layer  \\\n",
       "0           0.0                  0.0               0.0      0.0   \n",
       "1           0.0                  0.0               0.0      0.0   \n",
       "2           0.0                  0.0               0.0      0.0   \n",
       "3           0.0                  0.0               0.0      0.0   \n",
       "4           0.0                  0.0               0.0      0.0   \n",
       "\n",
       "   2-percent yogurt  6-to salmon  8-pound pork butt cap  ...  zucchini plank  \\\n",
       "0               0.0          0.0                    0.0  ...             0.0   \n",
       "1               0.0          0.0                    0.0  ...             0.0   \n",
       "2               0.0          0.0                    0.0  ...             0.0   \n",
       "3               0.0          0.0                    0.0  ...             0.0   \n",
       "4               0.0          0.0                    0.0  ...             0.0   \n",
       "\n",
       "   zucchini slice  zucchini style tomato sauce  zucchini summer squash  \\\n",
       "0             0.0                          0.0                     0.0   \n",
       "1             0.0                          0.0                     0.0   \n",
       "2             0.0                          0.0                     0.0   \n",
       "3             0.0                          0.0                     0.0   \n",
       "4             0.0                          0.0                     0.0   \n",
       "\n",
       "   zucchini summer squash piece  zucchini triangle  zucchini zucchini  \\\n",
       "0                           0.0                0.0                0.0   \n",
       "1                           0.0                0.0                0.0   \n",
       "2                           0.0                0.0                0.0   \n",
       "3                           0.0                0.0                0.0   \n",
       "4                           0.0                0.0                0.0   \n",
       "\n",
       "   zuchini  zuchinni  zuchinni chunk  \n",
       "0      0.0       0.0             0.0  \n",
       "1      0.0       0.0             0.0  \n",
       "2      0.0       0.0             0.0  \n",
       "3      0.0       0.0             0.0  \n",
       "4      0.0       0.0             0.0  \n",
       "\n",
       "[5 rows x 9663 columns]"
      ]
     },
     "execution_count": 337,
     "metadata": {},
     "output_type": "execute_result"
    }
   ],
   "source": [
    "#Print the shape of the dataframe, to check the number of recipes and ingredients\n",
    "\n",
    "print(df_test.shape)\n",
    "df_test.head()\n"
   ]
  },
  {
   "cell_type": "markdown",
   "metadata": {},
   "source": [
    "**The dataset contains 10 000 recipes, with 9663 different ingredients. As there are still many outliers in the ingredients, we will clean them later**"
   ]
  },
  {
   "cell_type": "code",
   "execution_count": 325,
   "metadata": {},
   "outputs": [],
   "source": [
    "df = df_test.set_index(\"id\")"
   ]
  },
  {
   "cell_type": "code",
   "execution_count": 326,
   "metadata": {},
   "outputs": [],
   "source": [
    "a = pd.DataFrame(df.sum()).sort_values(by=0, ascending=False)\n",
    "b = pd.DataFrame(df.sum(axis=1)).sort_values(by=0, ascending=False)"
   ]
  },
  {
   "cell_type": "code",
   "execution_count": 327,
   "metadata": {},
   "outputs": [],
   "source": [
    "translation_recipe_id_index = df_test['id'].reset_index().set_index('id').to_dict()['index']"
   ]
  },
  {
   "cell_type": "code",
   "execution_count": 329,
   "metadata": {},
   "outputs": [
    {
     "data": {
      "text/html": [
       "<div>\n",
       "<style scoped>\n",
       "    .dataframe tbody tr th:only-of-type {\n",
       "        vertical-align: middle;\n",
       "    }\n",
       "\n",
       "    .dataframe tbody tr th {\n",
       "        vertical-align: top;\n",
       "    }\n",
       "\n",
       "    .dataframe thead th {\n",
       "        text-align: right;\n",
       "    }\n",
       "</style>\n",
       "<table border=\"1\" class=\"dataframe\">\n",
       "  <thead>\n",
       "    <tr style=\"text-align: right;\">\n",
       "      <th></th>\n",
       "      <th>0</th>\n",
       "    </tr>\n",
       "  </thead>\n",
       "  <tbody>\n",
       "    <tr>\n",
       "      <td>salt</td>\n",
       "      <td>3754.0</td>\n",
       "    </tr>\n",
       "    <tr>\n",
       "      <td>sugar</td>\n",
       "      <td>3081.0</td>\n",
       "    </tr>\n",
       "    <tr>\n",
       "      <td>onion</td>\n",
       "      <td>2819.0</td>\n",
       "    </tr>\n",
       "    <tr>\n",
       "      <td>egg</td>\n",
       "      <td>2282.0</td>\n",
       "    </tr>\n",
       "    <tr>\n",
       "      <td>butter</td>\n",
       "      <td>2229.0</td>\n",
       "    </tr>\n",
       "    <tr>\n",
       "      <td>flour</td>\n",
       "      <td>1999.0</td>\n",
       "    </tr>\n",
       "    <tr>\n",
       "      <td>water</td>\n",
       "      <td>1753.0</td>\n",
       "    </tr>\n",
       "    <tr>\n",
       "      <td>pepper</td>\n",
       "      <td>1746.0</td>\n",
       "    </tr>\n",
       "    <tr>\n",
       "      <td>olive oil</td>\n",
       "      <td>1456.0</td>\n",
       "    </tr>\n",
       "    <tr>\n",
       "      <td>milk</td>\n",
       "      <td>1456.0</td>\n",
       "    </tr>\n",
       "  </tbody>\n",
       "</table>\n",
       "</div>"
      ],
      "text/plain": [
       "                0\n",
       "salt       3754.0\n",
       "sugar      3081.0\n",
       "onion      2819.0\n",
       "egg        2282.0\n",
       "butter     2229.0\n",
       "flour      1999.0\n",
       "water      1753.0\n",
       "pepper     1746.0\n",
       "olive oil  1456.0\n",
       "milk       1456.0"
      ]
     },
     "execution_count": 329,
     "metadata": {},
     "output_type": "execute_result"
    }
   ],
   "source": [
    "a[a[0] > 1][:10]"
   ]
  },
  {
   "cell_type": "code",
   "execution_count": 330,
   "metadata": {},
   "outputs": [],
   "source": [
    "# Salt and pepper are often scrapped as only one ingredient\n",
    "df['pepper'] = df['pepper'] + df['ground pepper']\n",
    "df['pepper'] = df['pepper'] + df['salt pepper']\n",
    "df['salt'] = df['salt'] + df['salt pepper']\n",
    "df['salt'] = df['salt'].clip(0,1)\n",
    "df['pepper'] = df['pepper'].clip(0,1)"
   ]
  },
  {
   "cell_type": "code",
   "execution_count": 224,
   "metadata": {},
   "outputs": [],
   "source": [
    "#We want to only keep ingredients present more than once.\n",
    "columns = a[a[0] > 1].index.values\n",
    "drop_columns = [\"salt ground pepper\", \"half\", \"salt pepper\", \"ground pepper\"]\n",
    "cols = np.setdiff1d(columns, drop_columns)"
   ]
  },
  {
   "cell_type": "code",
   "execution_count": 225,
   "metadata": {},
   "outputs": [],
   "source": [
    "df_clean = df[cols]"
   ]
  },
  {
   "cell_type": "code",
   "execution_count": 226,
   "metadata": {},
   "outputs": [],
   "source": [
    "Sortedingredients = pd.DataFrame(df_clean.sum()).sort_values(by=0, ascending=False)"
   ]
  },
  {
   "cell_type": "code",
   "execution_count": 227,
   "metadata": {},
   "outputs": [
    {
     "data": {
      "text/plain": [
       "(10000, 2754)"
      ]
     },
     "execution_count": 227,
     "metadata": {},
     "output_type": "execute_result"
    }
   ],
   "source": [
    "df_clean.shape"
   ]
  },
  {
   "cell_type": "code",
   "execution_count": 228,
   "metadata": {},
   "outputs": [
    {
     "data": {
      "text/html": [
       "<div>\n",
       "<style scoped>\n",
       "    .dataframe tbody tr th:only-of-type {\n",
       "        vertical-align: middle;\n",
       "    }\n",
       "\n",
       "    .dataframe tbody tr th {\n",
       "        vertical-align: top;\n",
       "    }\n",
       "\n",
       "    .dataframe thead th {\n",
       "        text-align: right;\n",
       "    }\n",
       "</style>\n",
       "<table border=\"1\" class=\"dataframe\">\n",
       "  <thead>\n",
       "    <tr style=\"text-align: right;\">\n",
       "      <th></th>\n",
       "      <th>2-percent yogurt</th>\n",
       "      <th>aburaage</th>\n",
       "      <th>accompaniment lemon wedge</th>\n",
       "      <th>adobo</th>\n",
       "      <th>adobo sauce</th>\n",
       "      <th>agave nectar</th>\n",
       "      <th>ahi tuna</th>\n",
       "      <th>ale</th>\n",
       "      <th>alfredo sauce</th>\n",
       "      <th>allspice</th>\n",
       "      <th>...</th>\n",
       "      <th>yukon gold potato</th>\n",
       "      <th>yukon gold potato chunk</th>\n",
       "      <th>yuzu juice</th>\n",
       "      <th>zest</th>\n",
       "      <th>zesty</th>\n",
       "      <th>ziti pasta</th>\n",
       "      <th>zucchini</th>\n",
       "      <th>zucchini chunk</th>\n",
       "      <th>zucchini piece</th>\n",
       "      <th>zucchini summer squash</th>\n",
       "    </tr>\n",
       "    <tr>\n",
       "      <th>id</th>\n",
       "      <th></th>\n",
       "      <th></th>\n",
       "      <th></th>\n",
       "      <th></th>\n",
       "      <th></th>\n",
       "      <th></th>\n",
       "      <th></th>\n",
       "      <th></th>\n",
       "      <th></th>\n",
       "      <th></th>\n",
       "      <th></th>\n",
       "      <th></th>\n",
       "      <th></th>\n",
       "      <th></th>\n",
       "      <th></th>\n",
       "      <th></th>\n",
       "      <th></th>\n",
       "      <th></th>\n",
       "      <th></th>\n",
       "      <th></th>\n",
       "      <th></th>\n",
       "    </tr>\n",
       "  </thead>\n",
       "  <tbody>\n",
       "    <tr>\n",
       "      <td>6a90237a1f</td>\n",
       "      <td>0.0</td>\n",
       "      <td>0.0</td>\n",
       "      <td>0.0</td>\n",
       "      <td>0.0</td>\n",
       "      <td>0.0</td>\n",
       "      <td>0.0</td>\n",
       "      <td>0.0</td>\n",
       "      <td>0.0</td>\n",
       "      <td>0.0</td>\n",
       "      <td>0.0</td>\n",
       "      <td>...</td>\n",
       "      <td>0.0</td>\n",
       "      <td>0.0</td>\n",
       "      <td>0.0</td>\n",
       "      <td>0.0</td>\n",
       "      <td>0.0</td>\n",
       "      <td>0.0</td>\n",
       "      <td>0.0</td>\n",
       "      <td>0.0</td>\n",
       "      <td>0.0</td>\n",
       "      <td>0.0</td>\n",
       "    </tr>\n",
       "    <tr>\n",
       "      <td>f3234317a4</td>\n",
       "      <td>0.0</td>\n",
       "      <td>0.0</td>\n",
       "      <td>0.0</td>\n",
       "      <td>0.0</td>\n",
       "      <td>0.0</td>\n",
       "      <td>0.0</td>\n",
       "      <td>0.0</td>\n",
       "      <td>0.0</td>\n",
       "      <td>0.0</td>\n",
       "      <td>0.0</td>\n",
       "      <td>...</td>\n",
       "      <td>0.0</td>\n",
       "      <td>0.0</td>\n",
       "      <td>0.0</td>\n",
       "      <td>0.0</td>\n",
       "      <td>0.0</td>\n",
       "      <td>0.0</td>\n",
       "      <td>0.0</td>\n",
       "      <td>0.0</td>\n",
       "      <td>0.0</td>\n",
       "      <td>0.0</td>\n",
       "    </tr>\n",
       "    <tr>\n",
       "      <td>fe207a8ce1</td>\n",
       "      <td>0.0</td>\n",
       "      <td>0.0</td>\n",
       "      <td>0.0</td>\n",
       "      <td>0.0</td>\n",
       "      <td>0.0</td>\n",
       "      <td>0.0</td>\n",
       "      <td>0.0</td>\n",
       "      <td>0.0</td>\n",
       "      <td>0.0</td>\n",
       "      <td>0.0</td>\n",
       "      <td>...</td>\n",
       "      <td>0.0</td>\n",
       "      <td>0.0</td>\n",
       "      <td>0.0</td>\n",
       "      <td>0.0</td>\n",
       "      <td>0.0</td>\n",
       "      <td>0.0</td>\n",
       "      <td>0.0</td>\n",
       "      <td>0.0</td>\n",
       "      <td>0.0</td>\n",
       "      <td>0.0</td>\n",
       "    </tr>\n",
       "    <tr>\n",
       "      <td>ebd602ad45</td>\n",
       "      <td>0.0</td>\n",
       "      <td>0.0</td>\n",
       "      <td>0.0</td>\n",
       "      <td>0.0</td>\n",
       "      <td>0.0</td>\n",
       "      <td>0.0</td>\n",
       "      <td>0.0</td>\n",
       "      <td>0.0</td>\n",
       "      <td>0.0</td>\n",
       "      <td>0.0</td>\n",
       "      <td>...</td>\n",
       "      <td>0.0</td>\n",
       "      <td>0.0</td>\n",
       "      <td>0.0</td>\n",
       "      <td>0.0</td>\n",
       "      <td>0.0</td>\n",
       "      <td>0.0</td>\n",
       "      <td>0.0</td>\n",
       "      <td>0.0</td>\n",
       "      <td>0.0</td>\n",
       "      <td>0.0</td>\n",
       "    </tr>\n",
       "    <tr>\n",
       "      <td>f38f4ee25d</td>\n",
       "      <td>0.0</td>\n",
       "      <td>0.0</td>\n",
       "      <td>0.0</td>\n",
       "      <td>0.0</td>\n",
       "      <td>0.0</td>\n",
       "      <td>0.0</td>\n",
       "      <td>0.0</td>\n",
       "      <td>0.0</td>\n",
       "      <td>0.0</td>\n",
       "      <td>0.0</td>\n",
       "      <td>...</td>\n",
       "      <td>0.0</td>\n",
       "      <td>0.0</td>\n",
       "      <td>0.0</td>\n",
       "      <td>0.0</td>\n",
       "      <td>0.0</td>\n",
       "      <td>0.0</td>\n",
       "      <td>0.0</td>\n",
       "      <td>0.0</td>\n",
       "      <td>0.0</td>\n",
       "      <td>0.0</td>\n",
       "    </tr>\n",
       "  </tbody>\n",
       "</table>\n",
       "<p>5 rows × 2754 columns</p>\n",
       "</div>"
      ],
      "text/plain": [
       "            2-percent yogurt  aburaage  accompaniment lemon wedge  adobo  \\\n",
       "id                                                                         \n",
       "6a90237a1f               0.0       0.0                        0.0    0.0   \n",
       "f3234317a4               0.0       0.0                        0.0    0.0   \n",
       "fe207a8ce1               0.0       0.0                        0.0    0.0   \n",
       "ebd602ad45               0.0       0.0                        0.0    0.0   \n",
       "f38f4ee25d               0.0       0.0                        0.0    0.0   \n",
       "\n",
       "            adobo sauce  agave nectar  ahi tuna  ale  alfredo sauce  allspice  \\\n",
       "id                                                                              \n",
       "6a90237a1f          0.0           0.0       0.0  0.0            0.0       0.0   \n",
       "f3234317a4          0.0           0.0       0.0  0.0            0.0       0.0   \n",
       "fe207a8ce1          0.0           0.0       0.0  0.0            0.0       0.0   \n",
       "ebd602ad45          0.0           0.0       0.0  0.0            0.0       0.0   \n",
       "f38f4ee25d          0.0           0.0       0.0  0.0            0.0       0.0   \n",
       "\n",
       "            ...  yukon gold potato  yukon gold potato chunk  yuzu juice  zest  \\\n",
       "id          ...                                                                 \n",
       "6a90237a1f  ...                0.0                      0.0         0.0   0.0   \n",
       "f3234317a4  ...                0.0                      0.0         0.0   0.0   \n",
       "fe207a8ce1  ...                0.0                      0.0         0.0   0.0   \n",
       "ebd602ad45  ...                0.0                      0.0         0.0   0.0   \n",
       "f38f4ee25d  ...                0.0                      0.0         0.0   0.0   \n",
       "\n",
       "            zesty  ziti pasta  zucchini  zucchini chunk  zucchini piece  \\\n",
       "id                                                                        \n",
       "6a90237a1f    0.0         0.0       0.0             0.0             0.0   \n",
       "f3234317a4    0.0         0.0       0.0             0.0             0.0   \n",
       "fe207a8ce1    0.0         0.0       0.0             0.0             0.0   \n",
       "ebd602ad45    0.0         0.0       0.0             0.0             0.0   \n",
       "f38f4ee25d    0.0         0.0       0.0             0.0             0.0   \n",
       "\n",
       "            zucchini summer squash  \n",
       "id                                  \n",
       "6a90237a1f                     0.0  \n",
       "f3234317a4                     0.0  \n",
       "fe207a8ce1                     0.0  \n",
       "ebd602ad45                     0.0  \n",
       "f38f4ee25d                     0.0  \n",
       "\n",
       "[5 rows x 2754 columns]"
      ]
     },
     "execution_count": 228,
     "metadata": {},
     "output_type": "execute_result"
    }
   ],
   "source": [
    "df_clean.head()"
   ]
  },
  {
   "cell_type": "code",
   "execution_count": 229,
   "metadata": {},
   "outputs": [
    {
     "data": {
      "text/plain": [
       "0"
      ]
     },
     "execution_count": 229,
     "metadata": {},
     "output_type": "execute_result"
    }
   ],
   "source": [
    "df_clean.isnull().sum().sum()"
   ]
  },
  {
   "cell_type": "code",
   "execution_count": 230,
   "metadata": {},
   "outputs": [
    {
     "data": {
      "text/plain": [
       "(10000, 2754)"
      ]
     },
     "execution_count": 230,
     "metadata": {},
     "output_type": "execute_result"
    }
   ],
   "source": [
    "features = df_clean.values\n",
    "features.shape"
   ]
  },
  {
   "cell_type": "code",
   "execution_count": 231,
   "metadata": {},
   "outputs": [],
   "source": []
  },
  {
   "cell_type": "code",
   "execution_count": 232,
   "metadata": {},
   "outputs": [
    {
     "name": "stdout",
     "output_type": "stream",
     "text": [
      "(10000, 10000)\n"
     ]
    }
   ],
   "source": [
    "nbingredients=features.shape[1]\n",
    "nbrecettes=features.shape[0]\n",
    "distancerecipes = compute_euclidean_distance(features)\n",
    "print(distancerecipes.shape)\n",
    "\n",
    "distanceingredients=np.zeros((nbingredients, nbingredients))\n",
    "\n",
    "for i in range(nbrecettes):\n",
    "    a=features[i]!=0\n",
    "    listindexingredients=[j for j, x in enumerate(a) if x]\n",
    "    #print(listindexingredients)\n",
    "    for pair in itertools.product(listindexingredients, repeat=2):\n",
    "        #print(pair)\n",
    "        distanceingredients[pair[0], pair[1]] = distanceingredients[pair[0], pair[1]]+1\n",
    "for j in range(nbingredients):\n",
    "    distanceingredients[j,j]=0"
   ]
  },
  {
   "cell_type": "code",
   "execution_count": 233,
   "metadata": {},
   "outputs": [],
   "source": [
    "meanconnectioningredients=distanceingredients.mean()\n",
    "mean_distance_recipes = distancerecipes.mean()"
   ]
  },
  {
   "cell_type": "markdown",
   "metadata": {},
   "source": [
    "****Properties of the ingredients****"
   ]
  },
  {
   "cell_type": "code",
   "execution_count": 234,
   "metadata": {},
   "outputs": [
    {
     "data": {
      "text/html": [
       "<div>\n",
       "<style scoped>\n",
       "    .dataframe tbody tr th:only-of-type {\n",
       "        vertical-align: middle;\n",
       "    }\n",
       "\n",
       "    .dataframe tbody tr th {\n",
       "        vertical-align: top;\n",
       "    }\n",
       "\n",
       "    .dataframe thead th {\n",
       "        text-align: right;\n",
       "    }\n",
       "</style>\n",
       "<table border=\"1\" class=\"dataframe\">\n",
       "  <thead>\n",
       "    <tr style=\"text-align: right;\">\n",
       "      <th></th>\n",
       "      <th>0</th>\n",
       "    </tr>\n",
       "  </thead>\n",
       "  <tbody>\n",
       "    <tr>\n",
       "      <td>salt</td>\n",
       "      <td>3754.0</td>\n",
       "    </tr>\n",
       "    <tr>\n",
       "      <td>sugar</td>\n",
       "      <td>3081.0</td>\n",
       "    </tr>\n",
       "    <tr>\n",
       "      <td>onion</td>\n",
       "      <td>2819.0</td>\n",
       "    </tr>\n",
       "    <tr>\n",
       "      <td>egg</td>\n",
       "      <td>2282.0</td>\n",
       "    </tr>\n",
       "    <tr>\n",
       "      <td>butter</td>\n",
       "      <td>2229.0</td>\n",
       "    </tr>\n",
       "    <tr>\n",
       "      <td>flour</td>\n",
       "      <td>1999.0</td>\n",
       "    </tr>\n",
       "    <tr>\n",
       "      <td>water</td>\n",
       "      <td>1753.0</td>\n",
       "    </tr>\n",
       "    <tr>\n",
       "      <td>pepper</td>\n",
       "      <td>1746.0</td>\n",
       "    </tr>\n",
       "    <tr>\n",
       "      <td>milk</td>\n",
       "      <td>1456.0</td>\n",
       "    </tr>\n",
       "    <tr>\n",
       "      <td>olive oil</td>\n",
       "      <td>1456.0</td>\n",
       "    </tr>\n",
       "  </tbody>\n",
       "</table>\n",
       "</div>"
      ],
      "text/plain": [
       "                0\n",
       "salt       3754.0\n",
       "sugar      3081.0\n",
       "onion      2819.0\n",
       "egg        2282.0\n",
       "butter     2229.0\n",
       "flour      1999.0\n",
       "water      1753.0\n",
       "pepper     1746.0\n",
       "milk       1456.0\n",
       "olive oil  1456.0"
      ]
     },
     "execution_count": 234,
     "metadata": {},
     "output_type": "execute_result"
    }
   ],
   "source": [
    "Sortedingredients[Sortedingredients[0] > 1][:10]"
   ]
  },
  {
   "cell_type": "code",
   "execution_count": 235,
   "metadata": {},
   "outputs": [
    {
     "name": "stdout",
     "output_type": "stream",
     "text": [
      "0.07836650354485375\n"
     ]
    }
   ],
   "source": [
    "print(distanceingredients.mean())"
   ]
  },
  {
   "cell_type": "markdown",
   "metadata": {},
   "source": [
    "This is not the mean distance but the mean number of recipes in common between two distinct ingredients."
   ]
  },
  {
   "cell_type": "code",
   "execution_count": 273,
   "metadata": {},
   "outputs": [
    {
     "name": "stdout",
     "output_type": "stream",
     "text": [
      "1459.0\n"
     ]
    },
    {
     "data": {
      "text/plain": [
       "<Figure size 432x288 with 0 Axes>"
      ]
     },
     "execution_count": 273,
     "metadata": {},
     "output_type": "execute_result"
    },
    {
     "data": {
      "image/png": "[encoded data removed]",
      "text/plain": [
       "<Figure size 576x288 with 1 Axes>"
      ]
     },
     "metadata": {
      "needs_background": "light"
     },
     "output_type": "display_data"
    },
    {
     "data": {
      "text/plain": [
       "<Figure size 432x288 with 0 Axes>"
      ]
     },
     "metadata": {},
     "output_type": "display_data"
    }
   ],
   "source": [
    "print(distanceingredients.max())\n",
    "plt.figure(1, figsize=(8, 4))\n",
    "plt.title(\"Histogram of connectivity between pairs of ingredients\")\n",
    "plt.hist(distanceingredients.flatten(), log=True, bins=100)\n",
    "plt.figure(\"yo\")"
   ]
  },
  {
   "cell_type": "code",
   "execution_count": 349,
   "metadata": {},
   "outputs": [
    {
     "name": "stdout",
     "output_type": "stream",
     "text": [
      "14082\n",
      "17130\n"
     ]
    }
   ],
   "source": [
    "Threshold=5\n",
    "print(sum(sum(distanceingredients>Threshold)))\n",
    "print(sum(sum(distanceingredients>=Threshold)))"
   ]
  },
  {
   "cell_type": "code",
   "execution_count": 350,
   "metadata": {},
   "outputs": [],
   "source": [
    "def make_A_feature(distance, threshold, lower_threshold=0):\n",
    "    A_feature = ((threshold <= distance)).astype(int)\n",
    "    np.fill_diagonal(A_feature, 0)\n",
    "    return A_feature\n",
    "\n",
    "def cleanAfeature(A):\n",
    "    cleaned=A.copy()\n",
    "    deleted=0\n",
    "    for i in range (len(A)):\n",
    "        if sum( A[len(A)-1-i] )==0:\n",
    "            deleted+=1\n",
    "            cleaned=np.delete(cleaned,len(A_feature)-1-i , 0)\n",
    "            cleaned=np.delete(cleaned,len(A_feature)-1-i, 1)\n",
    "    print(\"deleted\", deleted)\n",
    "    return(cleaned)"
   ]
  },
  {
   "cell_type": "code",
   "execution_count": 351,
   "metadata": {},
   "outputs": [
    {
     "name": "stdout",
     "output_type": "stream",
     "text": [
      "nb colonnes A_feature 2754\n",
      "deleted 1973\n",
      "nb colonnes A_feature_cleaned 781\n"
     ]
    },
    {
     "data": {
      "text/plain": [
       "<matplotlib.image.AxesImage at 0x1d3a056da58>"
      ]
     },
     "execution_count": 351,
     "metadata": {},
     "output_type": "execute_result"
    },
    {
     "data": {
      "image/png": "[encoded data removed]",
      "text/plain": [
       "<Figure size 288x288 with 1 Axes>"
      ]
     },
     "metadata": {
      "needs_background": "light"
     },
     "output_type": "display_data"
    },
    {
     "data": {
      "image/png": "[encoded data removed]",
      "text/plain": [
       "<Figure size 432x288 with 1 Axes>"
      ]
     },
     "metadata": {
      "needs_background": "light"
     },
     "output_type": "display_data"
    },
    {
     "data": {
      "image/png": "[encoded data removed]",
      "text/plain": [
       "<Figure size 288x288 with 1 Axes>"
      ]
     },
     "metadata": {
      "needs_background": "light"
     },
     "output_type": "display_data"
    }
   ],
   "source": [
    "A_feature = make_A_feature(distanceingredients, Threshold)\n",
    "print('nb colonnes A_feature', len(A_feature))\n",
    "plt.matshow(A_feature)\n",
    "\n",
    "A_featurecleaned= cleanAfeature(A_feature)\n",
    "print('nb colonnes A_feature_cleaned', len(A_featurecleaned))\n",
    "plt.figure(\"Degree distribution of the graph cleaned\")\n",
    "plt.hist(sum(A_feature), log=True, bins=100)\n",
    "plt.matshow(A_featurecleaned)\n",
    "\n"
   ]
  },
  {
   "cell_type": "code",
   "execution_count": 352,
   "metadata": {},
   "outputs": [
    {
     "name": "stdout",
     "output_type": "stream",
     "text": [
      "Number of edges in the feature cleaned graph: 8565.0\n"
     ]
    }
   ],
   "source": [
    "num_edges_feature = A_featurecleaned.sum() / 2\n",
    "print(f\"Number of edges in the feature cleaned graph: {num_edges_feature}\")"
   ]
  },
  {
   "cell_type": "code",
   "execution_count": 353,
   "metadata": {},
   "outputs": [
    {
     "data": {
      "image/png": "[encoded data removed]",
      "text/plain": [
       "<Figure size 432x288 with 1 Axes>"
      ]
     },
     "metadata": {
      "needs_background": "light"
     },
     "output_type": "display_data"
    }
   ],
   "source": [
    "degrees_feature = A_featurecleaned.sum(1)\n",
    "\n",
    "deg_hist_normalization = np.ones(degrees_feature.shape[0]) / degrees_feature.shape[0]\n",
    "plt.figure()\n",
    "plt.hist(degrees_feature, weights=deg_hist_normalization);"
   ]
  },
  {
   "cell_type": "code",
   "execution_count": 354,
   "metadata": {},
   "outputs": [
    {
     "name": "stdout",
     "output_type": "stream",
     "text": [
      "1st moment of feature graph: 21.933418693982073\n",
      "2nd moment of feature graph: 3061.134443021767\n"
     ]
    }
   ],
   "source": [
    "degfs, counts_feat = np.unique(degrees_feature, return_counts=True)\n",
    "\n",
    "degfeatprobs = counts_feat / counts_feat.sum()\n",
    "\n",
    "feat_moment_1 = (degfs*degfeatprobs).sum()\n",
    "feat_moment_2 = (degfs*degfs*degfeatprobs).sum()\n",
    "\n",
    "print(f\"1st moment of feature graph: {feat_moment_1}\")\n",
    "print(f\"2nd moment of feature graph: {feat_moment_2}\")"
   ]
  },
  {
   "cell_type": "markdown",
   "metadata": {},
   "source": [
    "delete the 20 higher hubs"
   ]
  },
  {
   "cell_type": "code",
   "execution_count": 355,
   "metadata": {},
   "outputs": [
    {
     "data": {
      "image/png": "[encoded data removed]",
      "text/plain": [
       "<Figure size 1152x1152 with 2 Axes>"
      ]
     },
     "metadata": {
      "needs_background": "light"
     },
     "output_type": "display_data"
    }
   ],
   "source": [
    "sort_feat = np.argsort(degrees_feature)\n",
    "#sort_cit = np.argsort(degrees_citation)\n",
    "\n",
    "reduced_A_feature = A_feature[sort_feat[:-12],:][:, sort_feat[:-12]]\n",
    "\n",
    "A_feature = A_feature[sort_feat,:][:,sort_feat]\n",
    "fig, axes = plt.subplots(1, 2, figsize=(16, 16))\n",
    "axes[0].set_title('Feature graph: adjacency matrix sparsity pattern')\n",
    "axes[0].spy(A_feature);\n",
    "axes[1].set_title('Feature graph without top 20 hubs: adjacency matrix sparsity pattern')\n",
    "axes[1].spy(reduced_A_feature);"
   ]
  },
  {
   "cell_type": "code",
   "execution_count": null,
   "metadata": {},
   "outputs": [],
   "source": []
  },
  {
   "cell_type": "code",
   "execution_count": 356,
   "metadata": {},
   "outputs": [
    {
     "data": {
      "image/png": "[encoded data removed]",
      "text/plain": [
       "<Figure size 432x288 with 1 Axes>"
      ]
     },
     "metadata": {
      "needs_background": "light"
     },
     "output_type": "display_data"
    }
   ],
   "source": [
    "reduced_degrees_feat = reduced_A_feature.sum(1)\n",
    "#reduced_degrees_cit = reduced_A_citation.sum(1)\n",
    "\n",
    "deg_hist_normalization = np.ones(reduced_degrees_feat.shape[0]) / reduced_degrees_feat.shape[0]\n",
    "\n",
    "\n",
    "plt.hist(reduced_degrees_feat, weights=deg_hist_normalization);"
   ]
  },
  {
   "cell_type": "code",
   "execution_count": 357,
   "metadata": {},
   "outputs": [
    {
     "name": "stdout",
     "output_type": "stream",
     "text": [
      "Feature graph first moment:  1.2951885565669699\n",
      "Feature graph second moment:  34.286085825747726\n"
     ]
    }
   ],
   "source": [
    "reduced_degfs, reduced_counts_feat = np.unique(reduced_degrees_feat,return_counts=True)\n",
    "reduced_degfeatprobs = reduced_counts_feat / reduced_counts_feat.sum()\n",
    "reduced_feat_moment_1 = (reduced_degfs*reduced_degfeatprobs).sum()\n",
    "reduced_feat_moment_2 = (reduced_degfs*reduced_degfs*reduced_degfeatprobs).sum()\n",
    "print(\"Feature graph first moment: \", reduced_feat_moment_1)\n",
    "print(\"Feature graph second moment: \", reduced_feat_moment_2)"
   ]
  },
  {
   "cell_type": "code",
   "execution_count": 358,
   "metadata": {},
   "outputs": [
    {
     "name": "stdout",
     "output_type": "stream",
     "text": [
      "Feat graph edges 498.0\n"
     ]
    }
   ],
   "source": [
    "print(\"Feat graph edges\", reduced_A_feature.sum() / 2)"
   ]
  },
  {
   "cell_type": "code",
   "execution_count": null,
   "metadata": {},
   "outputs": [],
   "source": []
  },
  {
   "cell_type": "code",
   "execution_count": 360,
   "metadata": {},
   "outputs": [],
   "source": [
    "path_lengths = range(11)\n",
    "\n",
    "#path_matrix_citation = sum([np.linalg.matrix_power(A_citation, k) for k in path_lengths])\n",
    "path_matrix_feature = sum([np.linalg.matrix_power(A_feature, k) for k in path_lengths])"
   ]
  },
  {
   "cell_type": "code",
   "execution_count": null,
   "metadata": {},
   "outputs": [],
   "source": []
  },
  {
   "cell_type": "code",
   "execution_count": null,
   "metadata": {},
   "outputs": [],
   "source": []
  },
  {
   "cell_type": "code",
   "execution_count": null,
   "metadata": {},
   "outputs": [],
   "source": [
    "\n",
    "#A AMELIORER POUR MIEUX CONTROLLER LE NOMBRE D'INGREDIENTS\n",
    "def create_recipe(index_ingredient, nbingredients):\n",
    "    listneighbours=[]\n",
    "    listingredients=[index_ingredient]\n",
    "    for i in range(nbingredients-1):\n",
    "        #print(listingredients)\n",
    "        # on prend un ingredient au hasard dans la liste\n",
    "        choosen = random.choice(listingredients)\n",
    "        #a:liste\n",
    "        a=(A_featurecleaned[choosen])\n",
    "        #print(a)\n",
    "        #on regarde quels sont ses voisins\n",
    "        listindneighbouringredients=[j for j, x in enumerate(a) if x]\n",
    "        listneighbours=list(set(listneighbours+listindneighbouringredients))\n",
    "        listingredients.append(random.choice(listneighbours))\n",
    "    return listingredients"
   ]
  },
  {
   "cell_type": "code",
   "execution_count": null,
   "metadata": {},
   "outputs": [],
   "source": [
    "listing=create_recipe(random.randint(0, len(A_featurecleaned)), random.randint(2, 10))\n",
    "liste=[]\n",
    "for i in listing:\n",
    "    liste.append(df_clean.columns[i])\n",
    "print(list(set(liste)))"
   ]
  },
  {
   "cell_type": "code",
   "execution_count": null,
   "metadata": {},
   "outputs": [],
   "source": []
  },
  {
   "cell_type": "code",
   "execution_count": null,
   "metadata": {},
   "outputs": [],
   "source": []
  },
  {
   "cell_type": "code",
   "execution_count": null,
   "metadata": {},
   "outputs": [],
   "source": []
  },
  {
   "cell_type": "code",
   "execution_count": null,
   "metadata": {},
   "outputs": [],
   "source": []
  },
  {
   "cell_type": "code",
   "execution_count": null,
   "metadata": {},
   "outputs": [],
   "source": []
  },
  {
   "cell_type": "code",
   "execution_count": null,
   "metadata": {},
   "outputs": [],
   "source": []
  },
  {
   "cell_type": "code",
   "execution_count": null,
   "metadata": {},
   "outputs": [],
   "source": []
  },
  {
   "cell_type": "code",
   "execution_count": null,
   "metadata": {},
   "outputs": [],
   "source": []
  },
  {
   "cell_type": "code",
   "execution_count": null,
   "metadata": {},
   "outputs": [],
   "source": []
  },
  {
   "cell_type": "code",
   "execution_count": null,
   "metadata": {},
   "outputs": [],
   "source": []
  },
  {
   "cell_type": "code",
   "execution_count": null,
   "metadata": {},
   "outputs": [],
   "source": []
  },
  {
   "cell_type": "code",
   "execution_count": null,
   "metadata": {},
   "outputs": [],
   "source": []
  },
  {
   "cell_type": "code",
   "execution_count": null,
   "metadata": {},
   "outputs": [],
   "source": []
  },
  {
   "cell_type": "code",
   "execution_count": null,
   "metadata": {},
   "outputs": [],
   "source": []
  },
  {
   "cell_type": "markdown",
   "metadata": {},
   "source": [
    "**Properties of recipes**"
   ]
  },
  {
   "cell_type": "code",
   "execution_count": 248,
   "metadata": {},
   "outputs": [
    {
     "data": {
      "image/png": "[encoded data removed]",
      "text/plain": [
       "<Figure size 576x288 with 1 Axes>"
      ]
     },
     "metadata": {
      "needs_background": "light"
     },
     "output_type": "display_data"
    }
   ],
   "source": [
    "plt.figure(1, figsize=(8, 4))\n",
    "plt.title(\"Histogram of Euclidean distances between recipes\")\n",
    "plt.hist(distancerecipes.flatten());"
   ]
  },
  {
   "cell_type": "code",
   "execution_count": 249,
   "metadata": {},
   "outputs": [
    {
     "ename": "NameError",
     "evalue": "name 'mean_distance' is not defined",
     "output_type": "error",
     "traceback": [
      "\u001b[1;31m---------------------------------------------------------------------------\u001b[0m",
      "\u001b[1;31mNameError\u001b[0m                                 Traceback (most recent call last)",
      "\u001b[1;32m<ipython-input-249-5d1684928144>\u001b[0m in \u001b[0;36m<module>\u001b[1;34m\u001b[0m\n\u001b[1;32m----> 1\u001b[1;33m \u001b[0mthreshold\u001b[0m \u001b[1;33m=\u001b[0m \u001b[0mmean_distance\u001b[0m\u001b[1;33m\u001b[0m\u001b[1;33m\u001b[0m\u001b[0m\n\u001b[0m\u001b[0;32m      2\u001b[0m \u001b[1;33m\u001b[0m\u001b[0m\n\u001b[0;32m      3\u001b[0m \u001b[1;32mdef\u001b[0m \u001b[0mmake_A_feature\u001b[0m\u001b[1;33m(\u001b[0m\u001b[0mdistance\u001b[0m\u001b[1;33m,\u001b[0m \u001b[0mthreshold\u001b[0m\u001b[1;33m,\u001b[0m \u001b[0mlower_threshold\u001b[0m\u001b[1;33m=\u001b[0m\u001b[1;36m0\u001b[0m\u001b[1;33m)\u001b[0m\u001b[1;33m:\u001b[0m\u001b[1;33m\u001b[0m\u001b[1;33m\u001b[0m\u001b[0m\n\u001b[0;32m      4\u001b[0m     \u001b[0mA_feature\u001b[0m \u001b[1;33m=\u001b[0m \u001b[1;33m(\u001b[0m\u001b[1;33m(\u001b[0m\u001b[0mlower_threshold\u001b[0m \u001b[1;33m<=\u001b[0m \u001b[0mdistance\u001b[0m\u001b[1;33m)\u001b[0m \u001b[1;33m&\u001b[0m \u001b[1;33m(\u001b[0m\u001b[0mdistance\u001b[0m \u001b[1;33m<\u001b[0m \u001b[0mthreshold\u001b[0m\u001b[1;33m)\u001b[0m\u001b[1;33m)\u001b[0m\u001b[1;33m.\u001b[0m\u001b[0mastype\u001b[0m\u001b[1;33m(\u001b[0m\u001b[0mint\u001b[0m\u001b[1;33m)\u001b[0m\u001b[1;33m\u001b[0m\u001b[1;33m\u001b[0m\u001b[0m\n\u001b[0;32m      5\u001b[0m     \u001b[0mnp\u001b[0m\u001b[1;33m.\u001b[0m\u001b[0mfill_diagonal\u001b[0m\u001b[1;33m(\u001b[0m\u001b[0mA_feature\u001b[0m\u001b[1;33m,\u001b[0m \u001b[1;36m0\u001b[0m\u001b[1;33m)\u001b[0m\u001b[1;33m\u001b[0m\u001b[1;33m\u001b[0m\u001b[0m\n",
      "\u001b[1;31mNameError\u001b[0m: name 'mean_distance' is not defined"
     ]
    }
   ],
   "source": [
    "threshold = mean_distance\n",
    "\n",
    "def compute_euclidean_distance(X):\n",
    "    return  np.sqrt(-2 * np.dot(X, X.T) + np.sum(X**2, axis=1) + np.expand_dims(np.sum(X**2, axis=1), 1))\n",
    "\n",
    "def make_A_feature(distance, threshold, lower_threshold=0):\n",
    "    A_feature = ((lower_threshold <= distance) & (distance < threshold)).astype(int)\n",
    "    np.fill_diagonal(A_feature, 0)\n",
    "    return A_feature\n",
    "\n",
    "A_feature = make_A_feature(distance, threshold)"
   ]
  },
  {
   "cell_type": "code",
   "execution_count": null,
   "metadata": {},
   "outputs": [],
   "source": []
  },
  {
   "cell_type": "code",
   "execution_count": null,
   "metadata": {},
   "outputs": [],
   "source": []
  },
  {
   "cell_type": "code",
   "execution_count": null,
   "metadata": {},
   "outputs": [],
   "source": []
  },
  {
   "cell_type": "code",
   "execution_count": null,
   "metadata": {},
   "outputs": [],
   "source": []
  },
  {
   "cell_type": "code",
   "execution_count": null,
   "metadata": {},
   "outputs": [],
   "source": []
  },
  {
   "cell_type": "code",
   "execution_count": null,
   "metadata": {},
   "outputs": [],
   "source": []
  },
  {
   "cell_type": "code",
   "execution_count": null,
   "metadata": {},
   "outputs": [],
   "source": []
  },
  {
   "cell_type": "code",
   "execution_count": null,
   "metadata": {},
   "outputs": [],
   "source": []
  }
 ],
 "metadata": {
  "kernelspec": {
   "display_name": "Python 3",
   "language": "python",
   "name": "python3"
  },
  "language_info": {
   "codemirror_mode": {
    "name": "ipython",
    "version": 3
   },
   "file_extension": ".py",
   "mimetype": "text/x-python",
   "name": "python",
   "nbconvert_exporter": "python",
   "pygments_lexer": "ipython3",
   "version": "3.7.3"
  }
 },
 "nbformat": 4,
 "nbformat_minor": 4
}
